{
  "nbformat": 4,
  "nbformat_minor": 0,
  "metadata": {
    "colab": {
      "provenance": [],
      "authorship_tag": "ABX9TyPGJlAI95SQzamFhHcKhSNi",
      "include_colab_link": true
    },
    "kernelspec": {
      "name": "python3",
      "display_name": "Python 3"
    },
    "language_info": {
      "name": "python"
    }
  },
  "cells": [
    {
      "cell_type": "markdown",
      "metadata": {
        "id": "view-in-github",
        "colab_type": "text"
      },
      "source": [
        "<a href=\"https://colab.research.google.com/github/Kartik-Koul/Mini-Project-Subset-Selection-Problem/blob/main/Solution_to_problem_2.ipynb\" target=\"_parent\"><img src=\"https://colab.research.google.com/assets/colab-badge.svg\" alt=\"Open In Colab\"/></a>"
      ]
    },
    {
      "cell_type": "code",
      "source": [
        "# Importing the required module\n",
        "import random as r"
      ],
      "metadata": {
        "id": "p1OSDfdbJgsi"
      },
      "execution_count": 1,
      "outputs": []
    },
    {
      "cell_type": "code",
      "source": [
        "# Declaring the problem set\n",
        "sample = [-12, -3, -6, 7, 2, -2, 6, 3, 9, -7, -5, -8, 1, 11, -9, -4]   \n",
        "\n",
        "# Declaring the list which will contain our solutions\n",
        "solution = []     \n",
        "\n",
        "# Declaring the number of iterations for which we want the program to run\n",
        "iteration_count = 500"
      ],
      "metadata": {
        "id": "9mysTH0fJlyY"
      },
      "execution_count": 2,
      "outputs": []
    },
    {
      "cell_type": "code",
      "source": [
        "for i in range(iteration_count):\n",
        "  \n",
        "  # Selecting a sample size 3 and 6\n",
        "  subset_size = r.randint(3,6)\n",
        "  \n",
        "  # Randomly selecting a sample from the question set\n",
        "  s = r.sample(sample,subset_size)\n",
        "\n",
        "  # Sorting the list before checking\n",
        "  s.sort()\n",
        "\n",
        "  # Applying the sum condition\n",
        "  if sum(s) == 0:\n",
        "    \n",
        "    # Adding each solution to the result list \n",
        "    solution.append(tuple(s))\n",
        "\n",
        "# Printing the result\n",
        "print(f\"For {iteration_count} iterations, following are the set of result values obtained : \")\n",
        "for i in solution:\n",
        "  print(i)\n",
        "\n",
        "# Printing the total number of results  \n",
        "print(f\"Total number of results obtained = {len(solution)}\")"
      ],
      "metadata": {
        "colab": {
          "base_uri": "https://localhost:8080/"
        },
        "id": "pEGzRRyfKmh_",
        "outputId": "5dc962e1-d798-40f0-bd84-d7c0ac687299"
      },
      "execution_count": 3,
      "outputs": [
        {
          "output_type": "stream",
          "name": "stdout",
          "text": [
            "For 500 iterations, following are the set of result values obtained : \n",
            "(-8, -7, -6, 1, 9, 11)\n",
            "(-3, -2, 2, 3)\n",
            "(-6, -4, -3, 6, 7)\n",
            "(-8, -5, -3, 7, 9)\n",
            "(-12, -5, 6, 11)\n",
            "(-9, -2, 2, 9)\n",
            "(-9, -7, -4, 9, 11)\n",
            "(-12, -8, -3, 3, 9, 11)\n",
            "(-9, -5, 2, 3, 9)\n",
            "(-4, -3, -2, 9)\n",
            "(-9, -8, -5, 2, 9, 11)\n",
            "Total number of results obtained = 11\n"
          ]
        }
      ]
    }
  ]
}