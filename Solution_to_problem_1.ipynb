{
  "nbformat": 4,
  "nbformat_minor": 0,
  "metadata": {
    "colab": {
      "provenance": [],
      "authorship_tag": "ABX9TyN/10CeQ58HOXOw5kxsic/T",
      "include_colab_link": true
    },
    "kernelspec": {
      "name": "python3",
      "display_name": "Python 3"
    },
    "language_info": {
      "name": "python"
    }
  },
  "cells": [
    {
      "cell_type": "markdown",
      "metadata": {
        "id": "view-in-github",
        "colab_type": "text"
      },
      "source": [
        "<a href=\"https://colab.research.google.com/github/Kartik-Koul/Mini-Project-Subset-Selection-Problem/blob/main/Solution_to_problem_1.ipynb\" target=\"_parent\"><img src=\"https://colab.research.google.com/assets/colab-badge.svg\" alt=\"Open In Colab\"/></a>"
      ]
    },
    {
      "cell_type": "code",
      "source": [
        "# Importing the required module\n",
        "import random as r"
      ],
      "metadata": {
        "id": "p1OSDfdbJgsi"
      },
      "execution_count": 13,
      "outputs": []
    },
    {
      "cell_type": "code",
      "source": [
        "# Declaring the problem set\n",
        "sample = [-12, -3, -6, 7, 2, -2, 6, 3, 9, -7, -5, -8, 1, 11, -9, -4]   \n",
        "\n",
        "# Declaring the result sample size\n",
        "subset_size = 5    \n",
        "\n",
        "# Declaring the list which will contain our solutions\n",
        "solution = []     \n",
        "\n",
        "# Declaring the number of iterations for which we want the program to run\n",
        "iteration_count = 500"
      ],
      "metadata": {
        "id": "9mysTH0fJlyY"
      },
      "execution_count": 24,
      "outputs": []
    },
    {
      "cell_type": "code",
      "source": [
        "for i in range(iteration_count):\n",
        "  \n",
        "  # Randomly selecting a sample from the question set\n",
        "  s = r.sample(sample,subset_size)\n",
        "\n",
        "  # Sorting the list before checking\n",
        "  s.sort()\n",
        "\n",
        "  # Applying the sum condition\n",
        "  if sum(s) == 0:\n",
        "    \n",
        "    # Adding each solution to the result list \n",
        "    solution.append(tuple(s))\n",
        "\n",
        "# Printing the result\n",
        "print(f\"For {iteration_count} iterations, following are the set of result values obtained : \")\n",
        "for i in solution:\n",
        "  print(i)\n",
        "\n",
        "# Printing the total number of results  \n",
        "print(f\"Total number of results obtained = {len(solution)}\")"
      ],
      "metadata": {
        "colab": {
          "base_uri": "https://localhost:8080/"
        },
        "id": "pEGzRRyfKmh_",
        "outputId": "81d27bea-0ca3-4663-ad60-4a6065eabbb6"
      },
      "execution_count": 25,
      "outputs": [
        {
          "output_type": "stream",
          "name": "stdout",
          "text": [
            "For 500 iterations, following are the set of result values obtained : \n",
            "(-12, -6, 3, 6, 9)\n",
            "(-12, 1, 2, 3, 6)\n",
            "(-4, -3, -2, 2, 7)\n",
            "(-5, -4, -3, 3, 9)\n",
            "(-9, -5, -2, 7, 9)\n",
            "(-12, -3, 2, 6, 7)\n",
            "(-5, -3, -2, 1, 9)\n",
            "(-12, -7, 1, 7, 11)\n",
            "(-9, -5, 1, 6, 7)\n",
            "(-12, -6, 3, 6, 9)\n",
            "(-12, -8, 2, 7, 11)\n",
            "(-12, -4, 3, 6, 7)\n",
            "(-6, -4, -3, 6, 7)\n",
            "(-7, -6, 1, 3, 9)\n",
            "(-9, -2, 2, 3, 6)\n",
            "(-12, -5, 2, 6, 9)\n",
            "(-7, -3, -2, 3, 9)\n",
            "Total number of results obtained = 17\n"
          ]
        }
      ]
    }
  ]
}